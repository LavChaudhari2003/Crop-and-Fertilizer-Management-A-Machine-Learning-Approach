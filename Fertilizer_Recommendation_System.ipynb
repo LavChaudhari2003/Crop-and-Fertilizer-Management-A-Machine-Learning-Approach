{
  "nbformat": 4,
  "nbformat_minor": 0,
  "metadata": {
    "colab": {
      "provenance": []
    },
    "kernelspec": {
      "name": "python3",
      "display_name": "Python 3"
    },
    "language_info": {
      "name": "python"
    }
  },
  "cells": [
    {
      "cell_type": "markdown",
      "source": [
        "## Fertilizer Recommendation\n",
        "\n",
        "## Goal : the goal is to build a recommendation system for farmers to suggest the appropriate type of fertilizer for their crops. The recommendation should be based on various factors such as soil nutrient levels (phosphorus, potassium, nitrogen), soil type, crop type, temperature, humidity, moisture, and possibly other environmental factors."
      ],
      "metadata": {
        "id": "Dnldn0SFsz2b"
      }
    },
    {
      "cell_type": "code",
      "execution_count": null,
      "metadata": {
        "colab": {
          "base_uri": "https://localhost:8080/"
        },
        "id": "2QKZ4JwZsiVz",
        "outputId": "3405b2ba-f37b-4df5-f0e7-cbdae65cbb4b"
      },
      "outputs": [
        {
          "output_type": "stream",
          "name": "stdout",
          "text": [
            "Mounted at /content/drive\n"
          ]
        }
      ],
      "source": [
        "from google.colab import drive\n",
        "drive.mount('/content/drive')\n"
      ]
    },
    {
      "cell_type": "code",
      "source": [
        "# Importing libraries\n",
        "\n",
        "from __future__ import print_function\n",
        "import pandas as pd\n",
        "import numpy as np\n",
        "import matplotlib.pyplot as plt\n",
        "import seaborn as sns\n",
        "from sklearn.metrics import classification_report\n",
        "from sklearn import metrics\n",
        "from sklearn.metrics import accuracy_score, precision_score, recall_score, f1_score, confusion_matrix, classification_report\n",
        "from sklearn import tree\n",
        "import warnings\n",
        "from sklearn.preprocessing import StandardScaler\n",
        "from sklearn.preprocessing import LabelEncoder\n",
        "warnings.filterwarnings('ignore')\n",
        "\n",
        "\n",
        "file_path_1 = '/content/drive/My Drive/202101135_Lav/IE406_Project/fertilizer_recommendation.csv'\n",
        "data = pd.read_csv(file_path_1)\n",
        "data.info()"
      ],
      "metadata": {
        "colab": {
          "base_uri": "https://localhost:8080/"
        },
        "id": "ETTb4R9c05AI",
        "outputId": "96f338cb-abd0-4f19-ecb1-144f1b2a5790"
      },
      "execution_count": null,
      "outputs": [
        {
          "output_type": "stream",
          "name": "stdout",
          "text": [
            "<class 'pandas.core.frame.DataFrame'>\n",
            "RangeIndex: 99 entries, 0 to 98\n",
            "Data columns (total 9 columns):\n",
            " #   Column           Non-Null Count  Dtype \n",
            "---  ------           --------------  ----- \n",
            " 0   Temparature      99 non-null     int64 \n",
            " 1   Humidity         99 non-null     int64 \n",
            " 2   Soil Moisture    99 non-null     int64 \n",
            " 3   Soil Type        99 non-null     object\n",
            " 4   Crop Type        99 non-null     object\n",
            " 5   Nitrogen         99 non-null     int64 \n",
            " 6   Potassium        99 non-null     int64 \n",
            " 7   Phosphorous      99 non-null     int64 \n",
            " 8   Fertilizer Name  99 non-null     object\n",
            "dtypes: int64(6), object(3)\n",
            "memory usage: 7.1+ KB\n"
          ]
        }
      ]
    },
    {
      "cell_type": "markdown",
      "source": [
        "## Data Processing"
      ],
      "metadata": {
        "id": "8LMN4MmQ1VeX"
      }
    },
    {
      "cell_type": "code",
      "source": [
        "#changing the column names\n",
        "data.rename(columns={'Humidity ':'Humidity','Soil Type':'Soil_Type','Crop Type':'Crop_Type','Fertilizer Name':'Fertilizer'},inplace=True)"
      ],
      "metadata": {
        "id": "HtWYa8Mm1YN5"
      },
      "execution_count": null,
      "outputs": []
    },
    {
      "cell_type": "markdown",
      "source": [
        "# Visualizing the Dataset\n",
        "**Here, we are creating a horizontal bar plot to visualize the distribution of different types of fertilizers in the dataset. We first extract the unique labels and their counts, then create the plot using matplotlib. Finally, we label each bar with its count and display the plot. This helps us understand the distribution of fertilizer types in the dataset.**"
      ],
      "metadata": {
        "id": "JCSClvsn1k3e"
      }
    },
    {
      "cell_type": "code",
      "source": [
        "labels = data[\"Fertilizer\"].unique()\n",
        "counts = list(data[\"Fertilizer\"].value_counts())\n",
        "\n",
        "plt.figure(figsize = (9,5))\n",
        "plt.barh(labels, counts)\n",
        "\n",
        "for index, value in enumerate(counts):\n",
        "    plt.text(value, index,\n",
        "             str(value))\n",
        "plt.show()"
      ],
      "metadata": {
        "colab": {
          "base_uri": "https://localhost:8080/",
          "height": 445
        },
        "id": "kM6Z7O2M1lYg",
        "outputId": "31a68e3d-3edc-4def-e7e0-e10c6730db94"
      },
      "execution_count": null,
      "outputs": [
        {
          "output_type": "display_data",
          "data": {
            "text/plain": [
              "<Figure size 900x500 with 1 Axes>"
            ],
            "image/png": "[encoded data removed]"
          },
          "metadata": {}
        }
      ]
    },
    {
      "cell_type": "markdown",
      "source": [
        "## plot_cato(x):\n",
        "**This function plots count plots for exploring categorical variables. It helps us understand the distribution of categories and their relationship with the output variable.**"
      ],
      "metadata": {
        "id": "hQvIcnN714OQ"
      }
    },
    {
      "cell_type": "code",
      "source": [
        "def plot_cato(x):\n",
        "    fig, axes = plt.subplots(nrows=1,ncols=2,figsize=(15,5),tight_layout=True)\n",
        "    axes[0].set_title('Count Plot')\n",
        "    sns.countplot(x,ax=axes[0])\n",
        "    axes[1].set_title('Relation with output variable')\n",
        "    sns.countplot(x = x,hue = data.Fertilizer, ax=axes[1])"
      ],
      "metadata": {
        "id": "2wv8sttU15DP"
      },
      "execution_count": null,
      "outputs": []
    },
    {
      "cell_type": "code",
      "source": [
        "#EDA - Soil_Type variable\n",
        "plot_cato(data.Soil_Type)"
      ],
      "metadata": {
        "colab": {
          "base_uri": "https://localhost:8080/",
          "height": 507
        },
        "id": "DOxs0iEu2LNf",
        "outputId": "f7bc8959-7d95-4ffc-f4df-1eddfac625fd"
      },
      "execution_count": null,
      "outputs": [
        {
          "output_type": "display_data",
          "data": {
            "text/plain": [
              "<Figure size 1500x500 with 2 Axes>"
            ],
            "image/png": "[encoded data removed]"
          },
          "metadata": {}
        }
      ]
    },
    {
      "cell_type": "code",
      "source": [
        "#EDA - Crop_Type variable\n",
        "plot_cato(data.Crop_Type)"
      ],
      "metadata": {
        "colab": {
          "base_uri": "https://localhost:8080/",
          "height": 507
        },
        "id": "z4YmNb462VSH",
        "outputId": "569b85bc-885e-444a-b296-28f5a4782bf5"
      },
      "execution_count": null,
      "outputs": [
        {
          "output_type": "display_data",
          "data": {
            "text/plain": [
              "<Figure size 1500x500 with 2 Axes>"
            ],
            "image/png": "[encoded data removed]"
          },
          "metadata": {}
        }
      ]
    },
    {
      "cell_type": "markdown",
      "source": [
        "# Label Encoding\n",
        "**This process converts categorical values in the \"Soil Type\" variable into numerical labels, facilitating the use of this variable in machine learning algorithms that require numerical inputs. The DataFrame Soil_Type provides a mapping between the original soil types and their encoded numerical labels for reference.**"
      ],
      "metadata": {
        "id": "dHQ8yrL62mNf"
      }
    },
    {
      "cell_type": "code",
      "source": [
        "#encoding Soil Type variable\n",
        "encode_soil = LabelEncoder()\n",
        "\n",
        "#fitting the label encoder\n",
        "data.Soil_Type = encode_soil.fit_transform(data.Soil_Type)\n",
        "\n",
        "#creating the DataFrame\n",
        "Soil_Type = pd.DataFrame(zip(encode_soil.classes_,encode_soil.transform(encode_soil.classes_)),columns=['Original','Encoded'])\n",
        "Soil_Type = Soil_Type.set_index('Original')\n",
        "Soil_Type"
      ],
      "metadata": {
        "colab": {
          "base_uri": "https://localhost:8080/",
          "height": 238
        },
        "id": "vlmzadwD2m9y",
        "outputId": "8b958f94-f637-4c6c-f716-b754295009ed"
      },
      "execution_count": null,
      "outputs": [
        {
          "output_type": "execute_result",
          "data": {
            "text/plain": [
              "          Encoded\n",
              "Original         \n",
              "Black           0\n",
              "Clayey          1\n",
              "Loamy           2\n",
              "Red             3\n",
              "Sandy           4"
            ],
            "text/html": [
              "\n",
              "  <div id=\"df-b813f6f8-5ad1-413a-bb61-a6a24b4e066f\" class=\"colab-df-container\">\n",
              "    <div>\n",
              "<style scoped>\n",
              "    .dataframe tbody tr th:only-of-type {\n",
              "        vertical-align: middle;\n",
              "    }\n",
              "\n",
              "    .dataframe tbody tr th {\n",
              "        vertical-align: top;\n",
              "    }\n",
              "\n",
              "    .dataframe thead th {\n",
              "        text-align: right;\n",
              "    }\n",
              "</style>\n",
              "<table border=\"1\" class=\"dataframe\">\n",
              "  <thead>\n",
              "    <tr style=\"text-align: right;\">\n",
              "      <th></th>\n",
              "      <th>Encoded</th>\n",
              "    </tr>\n",
              "    <tr>\n",
              "      <th>Original</th>\n",
              "      <th></th>\n",
              "    </tr>\n",
              "  </thead>\n",
              "  <tbody>\n",
              "    <tr>\n",
              "      <th>Black</th>\n",
              "      <td>0</td>\n",
              "    </tr>\n",
              "    <tr>\n",
              "      <th>Clayey</th>\n",
              "      <td>1</td>\n",
              "    </tr>\n",
              "    <tr>\n",
              "      <th>Loamy</th>\n",
              "      <td>2</td>\n",
              "    </tr>\n",
              "    <tr>\n",
              "      <th>Red</th>\n",
              "      <td>3</td>\n",
              "    </tr>\n",
              "    <tr>\n",
              "      <th>Sandy</th>\n",
              "      <td>4</td>\n",
              "    </tr>\n",
              "  </tbody>\n",
              "</table>\n",
              "</div>\n",
              "    <div class=\"colab-df-buttons\">\n",
              "\n",
              "  <div class=\"colab-df-container\">\n",
              "    <button class=\"colab-df-convert\" onclick=\"convertToInteractive('df-b813f6f8-5ad1-413a-bb61-a6a24b4e066f')\"\n",
              "            title=\"Convert this dataframe to an interactive table.\"\n",
              "            style=\"display:none;\">\n",
              "\n",
              "  <svg xmlns=\"http://www.w3.org/2000/svg\" height=\"24px\" viewBox=\"0 -960 960 960\">\n",
              "    <path d=\"M120-120v-720h720v720H120Zm60-500h600v-160H180v160Zm220 220h160v-160H400v160Zm0 220h160v-160H400v160ZM180-400h160v-160H180v160Zm440 0h160v-160H620v160ZM180-180h160v-160H180v160Zm440 0h160v-160H620v160Z\"/>\n",
              "  </svg>\n",
              "    </button>\n",
              "\n",
              "  <style>\n",
              "    .colab-df-container {\n",
              "      display:flex;\n",
              "      gap: 12px;\n",
              "    }\n",
              "\n",
              "    .colab-df-convert {\n",
              "      background-color: #E8F0FE;\n",
              "      border: none;\n",
              "      border-radius: 50%;\n",
              "      cursor: pointer;\n",
              "      display: none;\n",
              "      fill: #1967D2;\n",
              "      height: 32px;\n",
              "      padding: 0 0 0 0;\n",
              "      width: 32px;\n",
              "    }\n",
              "\n",
              "    .colab-df-convert:hover {\n",
              "      background-color: #E2EBFA;\n",
              "      box-shadow: 0px 1px 2px rgba(60, 64, 67, 0.3), 0px 1px 3px 1px rgba(60, 64, 67, 0.15);\n",
              "      fill: #174EA6;\n",
              "    }\n",
              "\n",
              "    .colab-df-buttons div {\n",
              "      margin-bottom: 4px;\n",
              "    }\n",
              "\n",
              "    [theme=dark] .colab-df-convert {\n",
              "      background-color: #3B4455;\n",
              "      fill: #D2E3FC;\n",
              "    }\n",
              "\n",
              "    [theme=dark] .colab-df-convert:hover {\n",
              "      background-color: #434B5C;\n",
              "      box-shadow: 0px 1px 3px 1px rgba(0, 0, 0, 0.15);\n",
              "      filter: drop-shadow(0px 1px 2px rgba(0, 0, 0, 0.3));\n",
              "      fill: #FFFFFF;\n",
              "    }\n",
              "  </style>\n",
              "\n",
              "    <script>\n",
              "      const buttonEl =\n",
              "        document.querySelector('#df-b813f6f8-5ad1-413a-bb61-a6a24b4e066f button.colab-df-convert');\n",
              "      buttonEl.style.display =\n",
              "        google.colab.kernel.accessAllowed ? 'block' : 'none';\n",
              "\n",
              "      async function convertToInteractive(key) {\n",
              "        const element = document.querySelector('#df-b813f6f8-5ad1-413a-bb61-a6a24b4e066f');\n",
              "        const dataTable =\n",
              "          await google.colab.kernel.invokeFunction('convertToInteractive',\n",
              "                                                    [key], {});\n",
              "        if (!dataTable) return;\n",
              "\n",
              "        const docLinkHtml = 'Like what you see? Visit the ' +\n",
              "          '<a target=\"_blank\" href=https://colab.research.google.com/notebooks/data_table.ipynb>data table notebook</a>'\n",
              "          + ' to learn more about interactive tables.';\n",
              "        element.innerHTML = '';\n",
              "        dataTable['output_type'] = 'display_data';\n",
              "        await google.colab.output.renderOutput(dataTable, element);\n",
              "        const docLink = document.createElement('div');\n",
              "        docLink.innerHTML = docLinkHtml;\n",
              "        element.appendChild(docLink);\n",
              "      }\n",
              "    </script>\n",
              "  </div>\n",
              "\n",
              "\n",
              "<div id=\"df-25cab4ba-e333-4e80-9d08-a701a31e5919\">\n",
              "  <button class=\"colab-df-quickchart\" onclick=\"quickchart('df-25cab4ba-e333-4e80-9d08-a701a31e5919')\"\n",
              "            title=\"Suggest charts\"\n",
              "            style=\"display:none;\">\n",
              "\n",
              "<svg xmlns=\"http://www.w3.org/2000/svg\" height=\"24px\"viewBox=\"0 0 24 24\"\n",
              "     width=\"24px\">\n",
              "    <g>\n",
              "        <path d=\"M19 3H5c-1.1 0-2 .9-2 2v14c0 1.1.9 2 2 2h14c1.1 0 2-.9 2-2V5c0-1.1-.9-2-2-2zM9 17H7v-7h2v7zm4 0h-2V7h2v10zm4 0h-2v-4h2v4z\"/>\n",
              "    </g>\n",
              "</svg>\n",
              "  </button>\n",
              "\n",
              "<style>\n",
              "  .colab-df-quickchart {\n",
              "      --bg-color: #E8F0FE;\n",
              "      --fill-color: #1967D2;\n",
              "      --hover-bg-color: #E2EBFA;\n",
              "      --hover-fill-color: #174EA6;\n",
              "      --disabled-fill-color: #AAA;\n",
              "      --disabled-bg-color: #DDD;\n",
              "  }\n",
              "\n",
              "  [theme=dark] .colab-df-quickchart {\n",
              "      --bg-color: #3B4455;\n",
              "      --fill-color: #D2E3FC;\n",
              "      --hover-bg-color: #434B5C;\n",
              "      --hover-fill-color: #FFFFFF;\n",
              "      --disabled-bg-color: #3B4455;\n",
              "      --disabled-fill-color: #666;\n",
              "  }\n",
              "\n",
              "  .colab-df-quickchart {\n",
              "    background-color: var(--bg-color);\n",
              "    border: none;\n",
              "    border-radius: 50%;\n",
              "    cursor: pointer;\n",
              "    display: none;\n",
              "    fill: var(--fill-color);\n",
              "    height: 32px;\n",
              "    padding: 0;\n",
              "    width: 32px;\n",
              "  }\n",
              "\n",
              "  .colab-df-quickchart:hover {\n",
              "    background-color: var(--hover-bg-color);\n",
              "    box-shadow: 0 1px 2px rgba(60, 64, 67, 0.3), 0 1px 3px 1px rgba(60, 64, 67, 0.15);\n",
              "    fill: var(--button-hover-fill-color);\n",
              "  }\n",
              "\n",
              "  .colab-df-quickchart-complete:disabled,\n",
              "  .colab-df-quickchart-complete:disabled:hover {\n",
              "    background-color: var(--disabled-bg-color);\n",
              "    fill: var(--disabled-fill-color);\n",
              "    box-shadow: none;\n",
              "  }\n",
              "\n",
              "  .colab-df-spinner {\n",
              "    border: 2px solid var(--fill-color);\n",
              "    border-color: transparent;\n",
              "    border-bottom-color: var(--fill-color);\n",
              "    animation:\n",
              "      spin 1s steps(1) infinite;\n",
              "  }\n",
              "\n",
              "  @keyframes spin {\n",
              "    0% {\n",
              "      border-color: transparent;\n",
              "      border-bottom-color: var(--fill-color);\n",
              "      border-left-color: var(--fill-color);\n",
              "    }\n",
              "    20% {\n",
              "      border-color: transparent;\n",
              "      border-left-color: var(--fill-color);\n",
              "      border-top-color: var(--fill-color);\n",
              "    }\n",
              "    30% {\n",
              "      border-color: transparent;\n",
              "      border-left-color: var(--fill-color);\n",
              "      border-top-color: var(--fill-color);\n",
              "      border-right-color: var(--fill-color);\n",
              "    }\n",
              "    40% {\n",
              "      border-color: transparent;\n",
              "      border-right-color: var(--fill-color);\n",
              "      border-top-color: var(--fill-color);\n",
              "    }\n",
              "    60% {\n",
              "      border-color: transparent;\n",
              "      border-right-color: var(--fill-color);\n",
              "    }\n",
              "    80% {\n",
              "      border-color: transparent;\n",
              "      border-right-color: var(--fill-color);\n",
              "      border-bottom-color: var(--fill-color);\n",
              "    }\n",
              "    90% {\n",
              "      border-color: transparent;\n",
              "      border-bottom-color: var(--fill-color);\n",
              "    }\n",
              "  }\n",
              "</style>\n",
              "\n",
              "  <script>\n",
              "    async function quickchart(key) {\n",
              "      const quickchartButtonEl =\n",
              "        document.querySelector('#' + key + ' button');\n",
              "      quickchartButtonEl.disabled = true;  // To prevent multiple clicks.\n",
              "      quickchartButtonEl.classList.add('colab-df-spinner');\n",
              "      try {\n",
              "        const charts = await google.colab.kernel.invokeFunction(\n",
              "            'suggestCharts', [key], {});\n",
              "      } catch (error) {\n",
              "        console.error('Error during call to suggestCharts:', error);\n",
              "      }\n",
              "      quickchartButtonEl.classList.remove('colab-df-spinner');\n",
              "      quickchartButtonEl.classList.add('colab-df-quickchart-complete');\n",
              "    }\n",
              "    (() => {\n",
              "      let quickchartButtonEl =\n",
              "        document.querySelector('#df-25cab4ba-e333-4e80-9d08-a701a31e5919 button');\n",
              "      quickchartButtonEl.style.display =\n",
              "        google.colab.kernel.accessAllowed ? 'block' : 'none';\n",
              "    })();\n",
              "  </script>\n",
              "</div>\n",
              "    </div>\n",
              "  </div>\n"
            ],
            "application/vnd.google.colaboratory.intrinsic+json": {
              "type": "dataframe",
              "variable_name": "Soil_Type",
              "summary": "{\n  \"name\": \"Soil_Type\",\n  \"rows\": 5,\n  \"fields\": [\n    {\n      \"column\": \"Original\",\n      \"properties\": {\n        \"dtype\": \"string\",\n        \"num_unique_values\": 5,\n        \"samples\": [\n          \"Clayey\",\n          \"Sandy\",\n          \"Loamy\"\n        ],\n        \"semantic_type\": \"\",\n        \"description\": \"\"\n      }\n    },\n    {\n      \"column\": \"Encoded\",\n      \"properties\": {\n        \"dtype\": \"number\",\n        \"std\": 1,\n        \"min\": 0,\n        \"max\": 4,\n        \"num_unique_values\": 5,\n        \"samples\": [\n          1,\n          4,\n          2\n        ],\n        \"semantic_type\": \"\",\n        \"description\": \"\"\n      }\n    }\n  ]\n}"
            }
          },
          "metadata": {},
          "execution_count": 9
        }
      ]
    },
    {
      "cell_type": "code",
      "source": [
        "#encoding Crop Type variable\n",
        "encode_crop = LabelEncoder()\n",
        "\n",
        "#fitting the label encoder\n",
        "data.Crop_Type = encode_crop.fit_transform(data.Crop_Type)\n",
        "\n",
        "#creating the DataFrame\n",
        "Crop_Type = pd.DataFrame(zip(encode_crop.classes_,encode_crop.transform(encode_crop.classes_)),columns=['Original','Encoded'])\n",
        "Crop_Type = Crop_Type.set_index('Original')\n",
        "Crop_Type"
      ],
      "metadata": {
        "colab": {
          "base_uri": "https://localhost:8080/",
          "height": 426
        },
        "id": "XjUjQIIq3ReT",
        "outputId": "a1007231-dcce-4afb-d460-1578a6bc1a61"
      },
      "execution_count": null,
      "outputs": [
        {
          "output_type": "execute_result",
          "data": {
            "text/plain": [
              "             Encoded\n",
              "Original            \n",
              "Barley             0\n",
              "Cotton             1\n",
              "Ground Nuts        2\n",
              "Maize              3\n",
              "Millets            4\n",
              "Oil seeds          5\n",
              "Paddy              6\n",
              "Pulses             7\n",
              "Sugarcane          8\n",
              "Tobacco            9\n",
              "Wheat             10"
            ],
            "text/html": [
              "\n",
              "  <div id=\"df-a3a5ddca-0648-4c91-8663-c118946b5ef4\" class=\"colab-df-container\">\n",
              "    <div>\n",
              "<style scoped>\n",
              "    .dataframe tbody tr th:only-of-type {\n",
              "        vertical-align: middle;\n",
              "    }\n",
              "\n",
              "    .dataframe tbody tr th {\n",
              "        vertical-align: top;\n",
              "    }\n",
              "\n",
              "    .dataframe thead th {\n",
              "        text-align: right;\n",
              "    }\n",
              "</style>\n",
              "<table border=\"1\" class=\"dataframe\">\n",
              "  <thead>\n",
              "    <tr style=\"text-align: right;\">\n",
              "      <th></th>\n",
              "      <th>Encoded</th>\n",
              "    </tr>\n",
              "    <tr>\n",
              "      <th>Original</th>\n",
              "      <th></th>\n",
              "    </tr>\n",
              "  </thead>\n",
              "  <tbody>\n",
              "    <tr>\n",
              "      <th>Barley</th>\n",
              "      <td>0</td>\n",
              "    </tr>\n",
              "    <tr>\n",
              "      <th>Cotton</th>\n",
              "      <td>1</td>\n",
              "    </tr>\n",
              "    <tr>\n",
              "      <th>Ground Nuts</th>\n",
              "      <td>2</td>\n",
              "    </tr>\n",
              "    <tr>\n",
              "      <th>Maize</th>\n",
              "      <td>3</td>\n",
              "    </tr>\n",
              "    <tr>\n",
              "      <th>Millets</th>\n",
              "      <td>4</td>\n",
              "    </tr>\n",
              "    <tr>\n",
              "      <th>Oil seeds</th>\n",
              "      <td>5</td>\n",
              "    </tr>\n",
              "    <tr>\n",
              "      <th>Paddy</th>\n",
              "      <td>6</td>\n",
              "    </tr>\n",
              "    <tr>\n",
              "      <th>Pulses</th>\n",
              "      <td>7</td>\n",
              "    </tr>\n",
              "    <tr>\n",
              "      <th>Sugarcane</th>\n",
              "      <td>8</td>\n",
              "    </tr>\n",
              "    <tr>\n",
              "      <th>Tobacco</th>\n",
              "      <td>9</td>\n",
              "    </tr>\n",
              "    <tr>\n",
              "      <th>Wheat</th>\n",
              "      <td>10</td>\n",
              "    </tr>\n",
              "  </tbody>\n",
              "</table>\n",
              "</div>\n",
              "    <div class=\"colab-df-buttons\">\n",
              "\n",
              "  <div class=\"colab-df-container\">\n",
              "    <button class=\"colab-df-convert\" onclick=\"convertToInteractive('df-a3a5ddca-0648-4c91-8663-c118946b5ef4')\"\n",
              "            title=\"Convert this dataframe to an interactive table.\"\n",
              "            style=\"display:none;\">\n",
              "\n",
              "  <svg xmlns=\"http://www.w3.org/2000/svg\" height=\"24px\" viewBox=\"0 -960 960 960\">\n",
              "    <path d=\"M120-120v-720h720v720H120Zm60-500h600v-160H180v160Zm220 220h160v-160H400v160Zm0 220h160v-160H400v160ZM180-400h160v-160H180v160Zm440 0h160v-160H620v160ZM180-180h160v-160H180v160Zm440 0h160v-160H620v160Z\"/>\n",
              "  </svg>\n",
              "    </button>\n",
              "\n",
              "  <style>\n",
              "    .colab-df-container {\n",
              "      display:flex;\n",
              "      gap: 12px;\n",
              "    }\n",
              "\n",
              "    .colab-df-convert {\n",
              "      background-color: #E8F0FE;\n",
              "      border: none;\n",
              "      border-radius: 50%;\n",
              "      cursor: pointer;\n",
              "      display: none;\n",
              "      fill: #1967D2;\n",
              "      height: 32px;\n",
              "      padding: 0 0 0 0;\n",
              "      width: 32px;\n",
              "    }\n",
              "\n",
              "    .colab-df-convert:hover {\n",
              "      background-color: #E2EBFA;\n",
              "      box-shadow: 0px 1px 2px rgba(60, 64, 67, 0.3), 0px 1px 3px 1px rgba(60, 64, 67, 0.15);\n",
              "      fill: #174EA6;\n",
              "    }\n",
              "\n",
              "    .colab-df-buttons div {\n",
              "      margin-bottom: 4px;\n",
              "    }\n",
              "\n",
              "    [theme=dark] .colab-df-convert {\n",
              "      background-color: #3B4455;\n",
              "      fill: #D2E3FC;\n",
              "    }\n",
              "\n",
              "    [theme=dark] .colab-df-convert:hover {\n",
              "      background-color: #434B5C;\n",
              "      box-shadow: 0px 1px 3px 1px rgba(0, 0, 0, 0.15);\n",
              "      filter: drop-shadow(0px 1px 2px rgba(0, 0, 0, 0.3));\n",
              "      fill: #FFFFFF;\n",
              "    }\n",
              "  </style>\n",
              "\n",
              "    <script>\n",
              "      const buttonEl =\n",
              "        document.querySelector('#df-a3a5ddca-0648-4c91-8663-c118946b5ef4 button.colab-df-convert');\n",
              "      buttonEl.style.display =\n",
              "        google.colab.kernel.accessAllowed ? 'block' : 'none';\n",
              "\n",
              "      async function convertToInteractive(key) {\n",
              "        const element = document.querySelector('#df-a3a5ddca-0648-4c91-8663-c118946b5ef4');\n",
              "        const dataTable =\n",
              "          await google.colab.kernel.invokeFunction('convertToInteractive',\n",
              "                                                    [key], {});\n",
              "        if (!dataTable) return;\n",
              "\n",
              "        const docLinkHtml = 'Like what you see? Visit the ' +\n",
              "          '<a target=\"_blank\" href=https://colab.research.google.com/notebooks/data_table.ipynb>data table notebook</a>'\n",
              "          + ' to learn more about interactive tables.';\n",
              "        element.innerHTML = '';\n",
              "        dataTable['output_type'] = 'display_data';\n",
              "        await google.colab.output.renderOutput(dataTable, element);\n",
              "        const docLink = document.createElement('div');\n",
              "        docLink.innerHTML = docLinkHtml;\n",
              "        element.appendChild(docLink);\n",
              "      }\n",
              "    </script>\n",
              "  </div>\n",
              "\n",
              "\n",
              "<div id=\"df-8525b6c4-5b72-4367-a4bc-ccc12cb246d7\">\n",
              "  <button class=\"colab-df-quickchart\" onclick=\"quickchart('df-8525b6c4-5b72-4367-a4bc-ccc12cb246d7')\"\n",
              "            title=\"Suggest charts\"\n",
              "            style=\"display:none;\">\n",
              "\n",
              "<svg xmlns=\"http://www.w3.org/2000/svg\" height=\"24px\"viewBox=\"0 0 24 24\"\n",
              "     width=\"24px\">\n",
              "    <g>\n",
              "        <path d=\"M19 3H5c-1.1 0-2 .9-2 2v14c0 1.1.9 2 2 2h14c1.1 0 2-.9 2-2V5c0-1.1-.9-2-2-2zM9 17H7v-7h2v7zm4 0h-2V7h2v10zm4 0h-2v-4h2v4z\"/>\n",
              "    </g>\n",
              "</svg>\n",
              "  </button>\n",
              "\n",
              "<style>\n",
              "  .colab-df-quickchart {\n",
              "      --bg-color: #E8F0FE;\n",
              "      --fill-color: #1967D2;\n",
              "      --hover-bg-color: #E2EBFA;\n",
              "      --hover-fill-color: #174EA6;\n",
              "      --disabled-fill-color: #AAA;\n",
              "      --disabled-bg-color: #DDD;\n",
              "  }\n",
              "\n",
              "  [theme=dark] .colab-df-quickchart {\n",
              "      --bg-color: #3B4455;\n",
              "      --fill-color: #D2E3FC;\n",
              "      --hover-bg-color: #434B5C;\n",
              "      --hover-fill-color: #FFFFFF;\n",
              "      --disabled-bg-color: #3B4455;\n",
              "      --disabled-fill-color: #666;\n",
              "  }\n",
              "\n",
              "  .colab-df-quickchart {\n",
              "    background-color: var(--bg-color);\n",
              "    border: none;\n",
              "    border-radius: 50%;\n",
              "    cursor: pointer;\n",
              "    display: none;\n",
              "    fill: var(--fill-color);\n",
              "    height: 32px;\n",
              "    padding: 0;\n",
              "    width: 32px;\n",
              "  }\n",
              "\n",
              "  .colab-df-quickchart:hover {\n",
              "    background-color: var(--hover-bg-color);\n",
              "    box-shadow: 0 1px 2px rgba(60, 64, 67, 0.3), 0 1px 3px 1px rgba(60, 64, 67, 0.15);\n",
              "    fill: var(--button-hover-fill-color);\n",
              "  }\n",
              "\n",
              "  .colab-df-quickchart-complete:disabled,\n",
              "  .colab-df-quickchart-complete:disabled:hover {\n",
              "    background-color: var(--disabled-bg-color);\n",
              "    fill: var(--disabled-fill-color);\n",
              "    box-shadow: none;\n",
              "  }\n",
              "\n",
              "  .colab-df-spinner {\n",
              "    border: 2px solid var(--fill-color);\n",
              "    border-color: transparent;\n",
              "    border-bottom-color: var(--fill-color);\n",
              "    animation:\n",
              "      spin 1s steps(1) infinite;\n",
              "  }\n",
              "\n",
              "  @keyframes spin {\n",
              "    0% {\n",
              "      border-color: transparent;\n",
              "      border-bottom-color: var(--fill-color);\n",
              "      border-left-color: var(--fill-color);\n",
              "    }\n",
              "    20% {\n",
              "      border-color: transparent;\n",
              "      border-left-color: var(--fill-color);\n",
              "      border-top-color: var(--fill-color);\n",
              "    }\n",
              "    30% {\n",
              "      border-color: transparent;\n",
              "      border-left-color: var(--fill-color);\n",
              "      border-top-color: var(--fill-color);\n",
              "      border-right-color: var(--fill-color);\n",
              "    }\n",
              "    40% {\n",
              "      border-color: transparent;\n",
              "      border-right-color: var(--fill-color);\n",
              "      border-top-color: var(--fill-color);\n",
              "    }\n",
              "    60% {\n",
              "      border-color: transparent;\n",
              "      border-right-color: var(--fill-color);\n",
              "    }\n",
              "    80% {\n",
              "      border-color: transparent;\n",
              "      border-right-color: var(--fill-color);\n",
              "      border-bottom-color: var(--fill-color);\n",
              "    }\n",
              "    90% {\n",
              "      border-color: transparent;\n",
              "      border-bottom-color: var(--fill-color);\n",
              "    }\n",
              "  }\n",
              "</style>\n",
              "\n",
              "  <script>\n",
              "    async function quickchart(key) {\n",
              "      const quickchartButtonEl =\n",
              "        document.querySelector('#' + key + ' button');\n",
              "      quickchartButtonEl.disabled = true;  // To prevent multiple clicks.\n",
              "      quickchartButtonEl.classList.add('colab-df-spinner');\n",
              "      try {\n",
              "        const charts = await google.colab.kernel.invokeFunction(\n",
              "            'suggestCharts', [key], {});\n",
              "      } catch (error) {\n",
              "        console.error('Error during call to suggestCharts:', error);\n",
              "      }\n",
              "      quickchartButtonEl.classList.remove('colab-df-spinner');\n",
              "      quickchartButtonEl.classList.add('colab-df-quickchart-complete');\n",
              "    }\n",
              "    (() => {\n",
              "      let quickchartButtonEl =\n",
              "        document.querySelector('#df-8525b6c4-5b72-4367-a4bc-ccc12cb246d7 button');\n",
              "      quickchartButtonEl.style.display =\n",
              "        google.colab.kernel.accessAllowed ? 'block' : 'none';\n",
              "    })();\n",
              "  </script>\n",
              "</div>\n",
              "    </div>\n",
              "  </div>\n"
            ],
            "application/vnd.google.colaboratory.intrinsic+json": {
              "type": "dataframe",
              "variable_name": "Crop_Type",
              "summary": "{\n  \"name\": \"Crop_Type\",\n  \"rows\": 11,\n  \"fields\": [\n    {\n      \"column\": \"Original\",\n      \"properties\": {\n        \"dtype\": \"string\",\n        \"num_unique_values\": 11,\n        \"samples\": [\n          \"Oil seeds\",\n          \"Barley\",\n          \"Tobacco\"\n        ],\n        \"semantic_type\": \"\",\n        \"description\": \"\"\n      }\n    },\n    {\n      \"column\": \"Encoded\",\n      \"properties\": {\n        \"dtype\": \"number\",\n        \"std\": 3,\n        \"min\": 0,\n        \"max\": 10,\n        \"num_unique_values\": 11,\n        \"samples\": [\n          5,\n          0,\n          9\n        ],\n        \"semantic_type\": \"\",\n        \"description\": \"\"\n      }\n    }\n  ]\n}"
            }
          },
          "metadata": {},
          "execution_count": 10
        }
      ]
    },
    {
      "cell_type": "code",
      "source": [
        "#encoding Fertilizer variable\n",
        "encode_ferti = LabelEncoder()\n",
        "\n",
        "#fitting the label encoder\n",
        "data.Fertilizer = encode_ferti.fit_transform(data.Fertilizer)\n",
        "\n",
        "#creating the DataFrame\n",
        "Fertilizer = pd.DataFrame(zip(encode_ferti.classes_,encode_ferti.transform(encode_ferti.classes_)),columns=['Original','Encoded'])\n",
        "Fertilizer = Fertilizer.set_index('Original')\n",
        "Fertilizer"
      ],
      "metadata": {
        "colab": {
          "base_uri": "https://localhost:8080/",
          "height": 300
        },
        "id": "4ZklEcHw3Pd2",
        "outputId": "79d2b2be-6097-461a-fd11-2bd2dddba26c"
      },
      "execution_count": null,
      "outputs": [
        {
          "output_type": "execute_result",
          "data": {
            "text/plain": [
              "          Encoded\n",
              "Original         \n",
              "10-26-26        0\n",
              "14-35-14        1\n",
              "17-17-17        2\n",
              "20-20           3\n",
              "28-28           4\n",
              "DAP             5\n",
              "Urea            6"
            ],
            "text/html": [
              "\n",
              "  <div id=\"df-8f65e514-73b6-4bdc-8157-f73b257c5416\" class=\"colab-df-container\">\n",
              "    <div>\n",
              "<style scoped>\n",
              "    .dataframe tbody tr th:only-of-type {\n",
              "        vertical-align: middle;\n",
              "    }\n",
              "\n",
              "    .dataframe tbody tr th {\n",
              "        vertical-align: top;\n",
              "    }\n",
              "\n",
              "    .dataframe thead th {\n",
              "        text-align: right;\n",
              "    }\n",
              "</style>\n",
              "<table border=\"1\" class=\"dataframe\">\n",
              "  <thead>\n",
              "    <tr style=\"text-align: right;\">\n",
              "      <th></th>\n",
              "      <th>Encoded</th>\n",
              "    </tr>\n",
              "    <tr>\n",
              "      <th>Original</th>\n",
              "      <th></th>\n",
              "    </tr>\n",
              "  </thead>\n",
              "  <tbody>\n",
              "    <tr>\n",
              "      <th>10-26-26</th>\n",
              "      <td>0</td>\n",
              "    </tr>\n",
              "    <tr>\n",
              "      <th>14-35-14</th>\n",
              "      <td>1</td>\n",
              "    </tr>\n",
              "    <tr>\n",
              "      <th>17-17-17</th>\n",
              "      <td>2</td>\n",
              "    </tr>\n",
              "    <tr>\n",
              "      <th>20-20</th>\n",
              "      <td>3</td>\n",
              "    </tr>\n",
              "    <tr>\n",
              "      <th>28-28</th>\n",
              "      <td>4</td>\n",
              "    </tr>\n",
              "    <tr>\n",
              "      <th>DAP</th>\n",
              "      <td>5</td>\n",
              "    </tr>\n",
              "    <tr>\n",
              "      <th>Urea</th>\n",
              "      <td>6</td>\n",
              "    </tr>\n",
              "  </tbody>\n",
              "</table>\n",
              "</div>\n",
              "    <div class=\"colab-df-buttons\">\n",
              "\n",
              "  <div class=\"colab-df-container\">\n",
              "    <button class=\"colab-df-convert\" onclick=\"convertToInteractive('df-8f65e514-73b6-4bdc-8157-f73b257c5416')\"\n",
              "            title=\"Convert this dataframe to an interactive table.\"\n",
              "            style=\"display:none;\">\n",
              "\n",
              "  <svg xmlns=\"http://www.w3.org/2000/svg\" height=\"24px\" viewBox=\"0 -960 960 960\">\n",
              "    <path d=\"M120-120v-720h720v720H120Zm60-500h600v-160H180v160Zm220 220h160v-160H400v160Zm0 220h160v-160H400v160ZM180-400h160v-160H180v160Zm440 0h160v-160H620v160ZM180-180h160v-160H180v160Zm440 0h160v-160H620v160Z\"/>\n",
              "  </svg>\n",
              "    </button>\n",
              "\n",
              "  <style>\n",
              "    .colab-df-container {\n",
              "      display:flex;\n",
              "      gap: 12px;\n",
              "    }\n",
              "\n",
              "    .colab-df-convert {\n",
              "      background-color: #E8F0FE;\n",
              "      border: none;\n",
              "      border-radius: 50%;\n",
              "      cursor: pointer;\n",
              "      display: none;\n",
              "      fill: #1967D2;\n",
              "      height: 32px;\n",
              "      padding: 0 0 0 0;\n",
              "      width: 32px;\n",
              "    }\n",
              "\n",
              "    .colab-df-convert:hover {\n",
              "      background-color: #E2EBFA;\n",
              "      box-shadow: 0px 1px 2px rgba(60, 64, 67, 0.3), 0px 1px 3px 1px rgba(60, 64, 67, 0.15);\n",
              "      fill: #174EA6;\n",
              "    }\n",
              "\n",
              "    .colab-df-buttons div {\n",
              "      margin-bottom: 4px;\n",
              "    }\n",
              "\n",
              "    [theme=dark] .colab-df-convert {\n",
              "      background-color: #3B4455;\n",
              "      fill: #D2E3FC;\n",
              "    }\n",
              "\n",
              "    [theme=dark] .colab-df-convert:hover {\n",
              "      background-color: #434B5C;\n",
              "      box-shadow: 0px 1px 3px 1px rgba(0, 0, 0, 0.15);\n",
              "      filter: drop-shadow(0px 1px 2px rgba(0, 0, 0, 0.3));\n",
              "      fill: #FFFFFF;\n",
              "    }\n",
              "  </style>\n",
              "\n",
              "    <script>\n",
              "      const buttonEl =\n",
              "        document.querySelector('#df-8f65e514-73b6-4bdc-8157-f73b257c5416 button.colab-df-convert');\n",
              "      buttonEl.style.display =\n",
              "        google.colab.kernel.accessAllowed ? 'block' : 'none';\n",
              "\n",
              "      async function convertToInteractive(key) {\n",
              "        const element = document.querySelector('#df-8f65e514-73b6-4bdc-8157-f73b257c5416');\n",
              "        const dataTable =\n",
              "          await google.colab.kernel.invokeFunction('convertToInteractive',\n",
              "                                                    [key], {});\n",
              "        if (!dataTable) return;\n",
              "\n",
              "        const docLinkHtml = 'Like what you see? Visit the ' +\n",
              "          '<a target=\"_blank\" href=https://colab.research.google.com/notebooks/data_table.ipynb>data table notebook</a>'\n",
              "          + ' to learn more about interactive tables.';\n",
              "        element.innerHTML = '';\n",
              "        dataTable['output_type'] = 'display_data';\n",
              "        await google.colab.output.renderOutput(dataTable, element);\n",
              "        const docLink = document.createElement('div');\n",
              "        docLink.innerHTML = docLinkHtml;\n",
              "        element.appendChild(docLink);\n",
              "      }\n",
              "    </script>\n",
              "  </div>\n",
              "\n",
              "\n",
              "<div id=\"df-a67a75e8-9b6e-4911-9386-db7099762595\">\n",
              "  <button class=\"colab-df-quickchart\" onclick=\"quickchart('df-a67a75e8-9b6e-4911-9386-db7099762595')\"\n",
              "            title=\"Suggest charts\"\n",
              "            style=\"display:none;\">\n",
              "\n",
              "<svg xmlns=\"http://www.w3.org/2000/svg\" height=\"24px\"viewBox=\"0 0 24 24\"\n",
              "     width=\"24px\">\n",
              "    <g>\n",
              "        <path d=\"M19 3H5c-1.1 0-2 .9-2 2v14c0 1.1.9 2 2 2h14c1.1 0 2-.9 2-2V5c0-1.1-.9-2-2-2zM9 17H7v-7h2v7zm4 0h-2V7h2v10zm4 0h-2v-4h2v4z\"/>\n",
              "    </g>\n",
              "</svg>\n",
              "  </button>\n",
              "\n",
              "<style>\n",
              "  .colab-df-quickchart {\n",
              "      --bg-color: #E8F0FE;\n",
              "      --fill-color: #1967D2;\n",
              "      --hover-bg-color: #E2EBFA;\n",
              "      --hover-fill-color: #174EA6;\n",
              "      --disabled-fill-color: #AAA;\n",
              "      --disabled-bg-color: #DDD;\n",
              "  }\n",
              "\n",
              "  [theme=dark] .colab-df-quickchart {\n",
              "      --bg-color: #3B4455;\n",
              "      --fill-color: #D2E3FC;\n",
              "      --hover-bg-color: #434B5C;\n",
              "      --hover-fill-color: #FFFFFF;\n",
              "      --disabled-bg-color: #3B4455;\n",
              "      --disabled-fill-color: #666;\n",
              "  }\n",
              "\n",
              "  .colab-df-quickchart {\n",
              "    background-color: var(--bg-color);\n",
              "    border: none;\n",
              "    border-radius: 50%;\n",
              "    cursor: pointer;\n",
              "    display: none;\n",
              "    fill: var(--fill-color);\n",
              "    height: 32px;\n",
              "    padding: 0;\n",
              "    width: 32px;\n",
              "  }\n",
              "\n",
              "  .colab-df-quickchart:hover {\n",
              "    background-color: var(--hover-bg-color);\n",
              "    box-shadow: 0 1px 2px rgba(60, 64, 67, 0.3), 0 1px 3px 1px rgba(60, 64, 67, 0.15);\n",
              "    fill: var(--button-hover-fill-color);\n",
              "  }\n",
              "\n",
              "  .colab-df-quickchart-complete:disabled,\n",
              "  .colab-df-quickchart-complete:disabled:hover {\n",
              "    background-color: var(--disabled-bg-color);\n",
              "    fill: var(--disabled-fill-color);\n",
              "    box-shadow: none;\n",
              "  }\n",
              "\n",
              "  .colab-df-spinner {\n",
              "    border: 2px solid var(--fill-color);\n",
              "    border-color: transparent;\n",
              "    border-bottom-color: var(--fill-color);\n",
              "    animation:\n",
              "      spin 1s steps(1) infinite;\n",
              "  }\n",
              "\n",
              "  @keyframes spin {\n",
              "    0% {\n",
              "      border-color: transparent;\n",
              "      border-bottom-color: var(--fill-color);\n",
              "      border-left-color: var(--fill-color);\n",
              "    }\n",
              "    20% {\n",
              "      border-color: transparent;\n",
              "      border-left-color: var(--fill-color);\n",
              "      border-top-color: var(--fill-color);\n",
              "    }\n",
              "    30% {\n",
              "      border-color: transparent;\n",
              "      border-left-color: var(--fill-color);\n",
              "      border-top-color: var(--fill-color);\n",
              "      border-right-color: var(--fill-color);\n",
              "    }\n",
              "    40% {\n",
              "      border-color: transparent;\n",
              "      border-right-color: var(--fill-color);\n",
              "      border-top-color: var(--fill-color);\n",
              "    }\n",
              "    60% {\n",
              "      border-color: transparent;\n",
              "      border-right-color: var(--fill-color);\n",
              "    }\n",
              "    80% {\n",
              "      border-color: transparent;\n",
              "      border-right-color: var(--fill-color);\n",
              "      border-bottom-color: var(--fill-color);\n",
              "    }\n",
              "    90% {\n",
              "      border-color: transparent;\n",
              "      border-bottom-color: var(--fill-color);\n",
              "    }\n",
              "  }\n",
              "</style>\n",
              "\n",
              "  <script>\n",
              "    async function quickchart(key) {\n",
              "      const quickchartButtonEl =\n",
              "        document.querySelector('#' + key + ' button');\n",
              "      quickchartButtonEl.disabled = true;  // To prevent multiple clicks.\n",
              "      quickchartButtonEl.classList.add('colab-df-spinner');\n",
              "      try {\n",
              "        const charts = await google.colab.kernel.invokeFunction(\n",
              "            'suggestCharts', [key], {});\n",
              "      } catch (error) {\n",
              "        console.error('Error during call to suggestCharts:', error);\n",
              "      }\n",
              "      quickchartButtonEl.classList.remove('colab-df-spinner');\n",
              "      quickchartButtonEl.classList.add('colab-df-quickchart-complete');\n",
              "    }\n",
              "    (() => {\n",
              "      let quickchartButtonEl =\n",
              "        document.querySelector('#df-a67a75e8-9b6e-4911-9386-db7099762595 button');\n",
              "      quickchartButtonEl.style.display =\n",
              "        google.colab.kernel.accessAllowed ? 'block' : 'none';\n",
              "    })();\n",
              "  </script>\n",
              "</div>\n",
              "    </div>\n",
              "  </div>\n"
            ],
            "application/vnd.google.colaboratory.intrinsic+json": {
              "type": "dataframe",
              "variable_name": "Fertilizer",
              "summary": "{\n  \"name\": \"Fertilizer\",\n  \"rows\": 7,\n  \"fields\": [\n    {\n      \"column\": \"Original\",\n      \"properties\": {\n        \"dtype\": \"string\",\n        \"num_unique_values\": 7,\n        \"samples\": [\n          \"10-26-26\",\n          \"14-35-14\",\n          \"DAP\"\n        ],\n        \"semantic_type\": \"\",\n        \"description\": \"\"\n      }\n    },\n    {\n      \"column\": \"Encoded\",\n      \"properties\": {\n        \"dtype\": \"number\",\n        \"std\": 2,\n        \"min\": 0,\n        \"max\": 6,\n        \"num_unique_values\": 7,\n        \"samples\": [\n          0,\n          1,\n          5\n        ],\n        \"semantic_type\": \"\",\n        \"description\": \"\"\n      }\n    }\n  ]\n}"
            }
          },
          "metadata": {},
          "execution_count": 11
        }
      ]
    },
    {
      "cell_type": "markdown",
      "source": [
        "**Splitting the Dataset into X and Y for categorize dependent and independent variables**"
      ],
      "metadata": {
        "id": "meZngcZu3x4v"
      }
    },
    {
      "cell_type": "code",
      "source": [
        "x = data[data.columns[:-1]]\n",
        "y = data[data.columns[-1]]\n",
        "\n",
        "\n",
        "#splitting the data into train and test\n",
        "from sklearn.model_selection import train_test_split\n",
        "\n",
        "Xtrain, Xtest, Ytrain, Ytest = train_test_split(x,y, test_size=0.2,random_state=1)\n",
        "\n",
        "# Initializing empty lists to append all model's name and corresponding name\n",
        "acc = []\n",
        "model = []"
      ],
      "metadata": {
        "id": "rfGDy8C_3xfH"
      },
      "execution_count": null,
      "outputs": []
    },
    {
      "cell_type": "markdown",
      "source": [
        "## KNN Clasification"
      ],
      "metadata": {
        "id": "_pjJ8xsY5HrH"
      }
    },
    {
      "cell_type": "code",
      "source": [
        "from sklearn.neighbors import KNeighborsClassifier\n",
        "from sklearn.datasets import make_classification\n",
        "from sklearn.model_selection import cross_val_score\n",
        "\n",
        "\n",
        "\n",
        "# Define a range of k values to try\n",
        "k_values = range(1,16)  # Try k from 1 to 30\n",
        "\n",
        "# Initialize lists to store mean accuracies for each k\n",
        "mean_accuracies = []\n",
        "# Initialize variables to store max accuracy and corresponding k\n",
        "max_accuracy = 0\n",
        "best_k = 0\n",
        "# Loop through each k value\n",
        "for k in k_values:\n",
        "    # Initialize KNN classifier with current k\n",
        "    knn = KNeighborsClassifier(n_neighbors=k)\n",
        "\n",
        "    # Perform k-fold cross-validation\n",
        "    accuracies = cross_val_score(knn, x, y, cv=5)\n",
        "\n",
        "    # Calculate mean accuracy\n",
        "    mean_accuracy = np.mean(accuracies)\n",
        "    mean_accuracies.append(mean_accuracy)\n",
        "\n",
        "    # Check if current accuracy is higher than the maximum\n",
        "    if mean_accuracy > max_accuracy:\n",
        "        max_accuracy = mean_accuracy\n",
        "        best_k = k\n",
        "\n",
        "# Plot the mean accuracies\n",
        "plt.plot(k_values, mean_accuracies)\n",
        "plt.xlabel('k')\n",
        "plt.ylabel('Mean Accuracy')\n",
        "plt.title('KNN Classification Mean Accuracy with Cross-Validation (Whole Dataset)')\n",
        "plt.xticks(k_values)\n",
        "plt.show()\n",
        "\n",
        "\n",
        "# Initialize KNN classifier with k=3\n",
        "knn = KNeighborsClassifier(n_neighbors=3)\n",
        "knn.fit(x,y)\n",
        "\n",
        "print(\"Best accuracy:\", max_accuracy)\n",
        "print(\"Best k:\", best_k)\n",
        "\n",
        "acc.append(max_accuracy)\n",
        "model.append('KNN')\n",
        "\n",
        "predicted_values = knn.predict(x)\n",
        "\n",
        "# Calculate accuracy\n",
        "accuracy = accuracy_score(y, predicted_values)\n",
        "\n",
        "# Calculate precision\n",
        "precision = precision_score(y, predicted_values, average='macro')\n",
        "\n",
        "# Calculate recall\n",
        "recall = recall_score(y, predicted_values, average='macro')\n",
        "\n",
        "# Calculate F1 score\n",
        "f1 = f1_score(y, predicted_values, average='macro')\n",
        "\n",
        "\n",
        "\n",
        "print(\"Overall Accuracy:\", max_accuracy)\n",
        "print(\"Precision:\", precision)\n",
        "print(\"Recall:\", recall)\n",
        "print(\"F1 Score:\", f1)\n"
      ],
      "metadata": {
        "colab": {
          "base_uri": "https://localhost:8080/",
          "height": 576
        },
        "id": "kZhKlOqf5HP4",
        "outputId": "b48f3dfd-5878-4427-ac6a-91c83a018101"
      },
      "execution_count": null,
      "outputs": [
        {
          "output_type": "display_data",
          "data": {
            "text/plain": [
              "<Figure size 640x480 with 1 Axes>"
            ],
            "image/png": "[encoded data removed]"
          },
          "metadata": {}
        },
        {
          "output_type": "stream",
          "name": "stdout",
          "text": [
            "Best accuracy: 0.9184210526315789\n",
            "Best k: 1\n",
            "Overall Accuracy: 0.9184210526315789\n",
            "Precision: 0.9904761904761905\n",
            "Recall: 0.979591836734694\n",
            "F1 Score: 0.9840848806366047\n"
          ]
        }
      ]
    },
    {
      "cell_type": "markdown",
      "source": [
        "## Decision Tree"
      ],
      "metadata": {
        "id": "8vgP1YRN6kCg"
      }
    },
    {
      "cell_type": "code",
      "source": [
        "\n",
        "from sklearn.tree import DecisionTreeClassifier\n",
        "from sklearn.model_selection import cross_val_score\n",
        "\n",
        "depths = range(1,6)  # Testing depths from 1 to 5\n",
        "accuracies = []\n",
        "\n",
        "# Iterate over the specified range of tree depths\n",
        "for depth in depths:\n",
        "    # Create the Decision Tree model with the specified depth\n",
        "    DecisionTree = DecisionTreeClassifier(criterion=\"entropy\", random_state=2, max_depth=depth)\n",
        "\n",
        "    # Perform cross-validation and calculate the mean score\n",
        "    scores = cross_val_score(DecisionTree, x, y, cv=5)\n",
        "    mean_score = np.mean(scores)\n",
        "    accuracies.append(mean_score)\n",
        "\n",
        "# Plotting the results\n",
        "plt.figure(figsize=(10, 5))\n",
        "plt.plot(depths, accuracies, marker='o', linestyle='-', color='b')\n",
        "plt.title('Decision Tree Accuracy vs. Tree Depth')\n",
        "plt.xlabel('Depth of Tree')\n",
        "plt.ylabel('Accuracy')\n",
        "plt.grid(True)\n",
        "plt.xticks(depths)  # Ensure all depth values are marked\n",
        "plt.show()\n",
        "\n",
        "\n",
        "DecisionTree = DecisionTreeClassifier(criterion=\"entropy\", random_state=2, max_depth=6)\n",
        "DecisionTree.fit(Xtrain,Ytrain)\n",
        "predicted_values = DecisionTree.predict(Xtest)\n",
        "scores = cross_val_score(DecisionTree, x, y, cv=5)\n",
        "mean_score = np.mean(scores)\n",
        "\n",
        "\n",
        "acc.append(mean_score)\n",
        "model.append('Decision Tree')\n",
        "\n",
        "\n",
        "\n",
        "# Calculate precision\n",
        "precision = precision_score(Ytest, predicted_values, average='macro')\n",
        "\n",
        "# Calculate recall\n",
        "recall = recall_score(Ytest, predicted_values, average='macro')\n",
        "\n",
        "# Calculate F1 score\n",
        "f1 = f1_score(Ytest, predicted_values, average='macro')\n",
        "\n",
        "\n",
        "\n",
        "print(\"Overall Accuracy:\", mean_score)\n",
        "print(\"Precision:\", precision)\n",
        "print(\"Recall:\", recall)\n",
        "print(\"F1 Score:\", f1)\n"
      ],
      "metadata": {
        "colab": {
          "base_uri": "https://localhost:8080/",
          "height": 556
        },
        "id": "QTWEPbmY6mwg",
        "outputId": "ae99eeb4-b618-4eea-b4cd-dda29045393c"
      },
      "execution_count": null,
      "outputs": [
        {
          "output_type": "display_data",
          "data": {
            "text/plain": [
              "<Figure size 1000x500 with 1 Axes>"
            ],
            "image/png": "[encoded data removed]"
          },
          "metadata": {}
        },
        {
          "output_type": "stream",
          "name": "stdout",
          "text": [
            "Overall Accuracy: 0.97\n",
            "Precision: 0.6428571428571429\n",
            "Recall: 0.7142857142857143\n",
            "F1 Score: 0.6666666666666666\n"
          ]
        }
      ]
    },
    {
      "cell_type": "markdown",
      "source": [
        "## <h1> Guassian Naive Bayes </h1>\n",
        "\n"
      ],
      "metadata": {
        "id": "6EOopH-j8cMP"
      }
    },
    {
      "cell_type": "code",
      "source": [
        "from sklearn.naive_bayes import GaussianNB\n",
        "\n",
        "NaiveBayes = GaussianNB()\n",
        "\n",
        "NaiveBayes.fit(Xtrain,Ytrain)\n",
        "\n",
        "predicted_values = NaiveBayes.predict(Xtest)\n",
        "score = cross_val_score(NaiveBayes,x,y,cv=5)\n",
        "mean_score = np.mean(score)\n",
        "\n",
        "acc.append(mean_score)\n",
        "model.append(NaiveBayes)\n",
        "\n",
        "#calculate accuracy\n",
        "accuracy = accuracy_score(Ytest, predicted_values)\n",
        "\n",
        "# Calculate precision\n",
        "precision = precision_score(Ytest, predicted_values, average='macro')\n",
        "\n",
        "# Calculate recall\n",
        "recall = recall_score(Ytest, predicted_values, average='macro')\n",
        "\n",
        "# Calculate F1 score\n",
        "f1 = f1_score(Ytest, predicted_values, average='macro')\n",
        "\n",
        "\n",
        "\n",
        "print(\"Overall Accuracy:\", accuracy)\n",
        "print(\"Precision:\", precision)\n",
        "print(\"Recall:\", recall)\n",
        "print(\"F1 Score:\", f1)"
      ],
      "metadata": {
        "colab": {
          "base_uri": "https://localhost:8080/"
        },
        "id": "d_sts0Tt8efY",
        "outputId": "4c9a7e45-5906-44cf-e2ce-c8b10ba5a9ad"
      },
      "execution_count": null,
      "outputs": [
        {
          "output_type": "stream",
          "name": "stdout",
          "text": [
            "Overall Accuracy: 1.0\n",
            "Precision: 1.0\n",
            "Recall: 1.0\n",
            "F1 Score: 1.0\n"
          ]
        }
      ]
    },
    {
      "cell_type": "markdown",
      "source": [
        "## <h1> Support Vector Machine (SVM) </h1>"
      ],
      "metadata": {
        "id": "DZR85KFv-UNm"
      }
    },
    {
      "cell_type": "code",
      "source": [
        "from sklearn.svm import SVC\n",
        "\n",
        "# Define the SVM models with different kernels\n",
        "kernels = ['linear', 'poly', 'rbf']\n",
        "accuracies = []\n",
        "SVM_models = []\n",
        "\n",
        "# Assuming Xtrain, Xtest, Ytrain, and Ytest are defined\n",
        "\n",
        "for kernel in kernels:\n",
        "    if kernel == 'poly':\n",
        "        SVM = SVC(kernel=kernel, gamma='auto', degree=3)  # Poly kernel with degree 3\n",
        "    else:\n",
        "        SVM = SVC(kernel=kernel, gamma='auto')  # Linear or Gaussian (rbf) kernel\n",
        "\n",
        "    # Train the SVM model\n",
        "    SVM.fit(Xtrain, Ytrain)\n",
        "\n",
        "    # Predict on the test set\n",
        "    predicted_values = SVM.predict(Xtest)\n",
        "\n",
        "    # Calculate accuracy using cross-validation\n",
        "    score = cross_val_score(SVM, Xtrain, Ytrain, cv=5)\n",
        "    mean_score = np.mean(score)\n",
        "    accuracies.append(mean_score)\n",
        "    SVM_models.append('SVM with ' + kernel + ' kernel')\n",
        "    print(\"SVM with\", kernel, \"kernel's Accuracy is:\", mean_score)\n",
        "\n",
        "# Compare results\n",
        "for i in range(len(SVM_models)):\n",
        "    print(SVM_models[i] + \"'s Accuracy:\", accuracies[i])\n",
        "\n",
        "# Append the best accuracy to acc and model list\n",
        "max_acc = max(accuracies)\n",
        "acc.append(max_acc)\n",
        "model.append('SVM')\n",
        "\n",
        "# Train the SVM model with linear kernel\n",
        "SVM = SVC(kernel='linear', gamma='auto')\n",
        "SVM.fit(Xtrain, Ytrain)\n",
        "predicted_values = SVM.predict(Xtest)\n",
        "\n",
        "# Calculate accuracy\n",
        "accuracy = accuracy_score(Ytest, predicted_values)\n",
        "\n",
        "# Calculate precision\n",
        "precision = precision_score(Ytest, predicted_values, average='macro')\n",
        "\n",
        "# Calculate recall\n",
        "recall = recall_score(Ytest, predicted_values, average='macro')\n",
        "\n",
        "# Calculate F1 score\n",
        "f1 = f1_score(Ytest, predicted_values, average='macro')\n",
        "\n",
        "print(\"\\nOverall Accuracy:\", accuracy)\n",
        "print(\"Precision:\", precision)\n",
        "print(\"Recall:\", recall)\n",
        "print(\"F1 Score:\", f1)\n",
        "print(\"\\n\")\n",
        "# Plot the confusion matrix\n",
        "plt.figure(figsize=(10, 5))\n",
        "sns.heatmap(confusion_matrix(Ytest, predicted_values), annot=True)\n",
        "plt.title(\"Confusion Matrix for Test Data\")\n",
        "plt.show()\n",
        "\n"
      ],
      "metadata": {
        "colab": {
          "base_uri": "https://localhost:8080/",
          "height": 694
        },
        "id": "7Py7dIz6-Viv",
        "outputId": "257d302b-a75f-47ed-fb8c-6ba7e8d83a1e"
      },
      "execution_count": null,
      "outputs": [
        {
          "output_type": "stream",
          "name": "stdout",
          "text": [
            "SVM with linear kernel's Accuracy is: 0.975\n",
            "SVM with poly kernel's Accuracy is: 0.9616666666666667\n",
            "SVM with rbf kernel's Accuracy is: 0.35416666666666663\n",
            "SVM with linear kernel's Accuracy: 0.975\n",
            "SVM with poly kernel's Accuracy: 0.9616666666666667\n",
            "SVM with rbf kernel's Accuracy: 0.35416666666666663\n",
            "\n",
            "Overall Accuracy: 0.95\n",
            "Precision: 0.9642857142857143\n",
            "Recall: 0.9523809523809523\n",
            "F1 Score: 0.9510204081632653\n",
            "\n",
            "\n"
          ]
        },
        {
          "output_type": "display_data",
          "data": {
            "text/plain": [
              "<Figure size 1000x500 with 2 Axes>"
            ],
            "image/png": "[encoded data removed]"
          },
          "metadata": {}
        }
      ]
    },
    {
      "cell_type": "markdown",
      "source": [
        "## <h1> Logistic Regression </h1>"
      ],
      "metadata": {
        "id": "cMMF8qi-994g"
      }
    },
    {
      "cell_type": "code",
      "source": [
        "from sklearn.linear_model import LogisticRegression\n",
        "\n",
        "LogReg = LogisticRegression(random_state=2)\n",
        "LogReg.fit(Xtrain,Ytrain)\n",
        "predicted_values = LogReg.predict(Xtest)\n",
        "\n",
        "# Cross validation score (Logistic Regression)\n",
        "score = cross_val_score(LogReg,x,y,cv=5)\n",
        "score_mean = np.mean(score)\n",
        "acc.append(score_mean)\n",
        "model.append('Logistic Regression')\n",
        "\n",
        "#calculate accuracy\n",
        "accuracy = accuracy_score(Ytest, predicted_values)\n",
        "\n",
        "# Calculate precision\n",
        "precision = precision_score(Ytest, predicted_values, average='macro')\n",
        "\n",
        "# Calculate recall\n",
        "recall = recall_score(Ytest, predicted_values, average='macro')\n",
        "\n",
        "# Calculate F1 score\n",
        "f1 = f1_score(Ytest, predicted_values, average='macro')\n",
        "\n",
        "\n",
        "\n",
        "print(\"Overall Accuracy:\", accuracy)\n",
        "print(\"Precision:\", precision)\n",
        "print(\"Recall:\", recall)\n",
        "print(\"F1 Score:\", f1)\n",
        "\n"
      ],
      "metadata": {
        "colab": {
          "base_uri": "https://localhost:8080/"
        },
        "id": "teCWAEdf9_6P",
        "outputId": "77d4acad-bc57-4f7e-d011-b36c499c6ba5"
      },
      "execution_count": null,
      "outputs": [
        {
          "output_type": "stream",
          "name": "stdout",
          "text": [
            "Overall Accuracy: 1.0\n",
            "Precision: 1.0\n",
            "Recall: 1.0\n",
            "F1 Score: 1.0\n"
          ]
        }
      ]
    },
    {
      "cell_type": "markdown",
      "source": [
        "## <h1> Random Forest </h1>"
      ],
      "metadata": {
        "id": "TUEOPSTD-nt5"
      }
    },
    {
      "cell_type": "code",
      "source": [
        "from sklearn.ensemble import RandomForestClassifier\n",
        "\n",
        "RF = RandomForestClassifier(n_estimators=20, random_state=0)\n",
        "RF.fit(Xtrain,Ytrain)\n",
        "\n",
        "predicted_values = RF.predict(Xtest)\n",
        "\n",
        "# Cross validation score (Random Forest)\n",
        "score = cross_val_score(RF,x,y,cv=5)\n",
        "score_mean = np.mean(score)\n",
        "acc.append(score_mean)\n",
        "model.append('RF')\n",
        "\n",
        "\n",
        "#calculate accuracy\n",
        "accuracy = accuracy_score(Ytest, predicted_values)\n",
        "\n",
        "# Calculate precision\n",
        "precision = precision_score(Ytest, predicted_values, average='macro')\n",
        "\n",
        "# Calculate recall\n",
        "recall = recall_score(Ytest, predicted_values, average='macro')\n",
        "\n",
        "# Calculate F1 score\n",
        "f1 = f1_score(Ytest, predicted_values, average='macro')\n",
        "\n",
        "\n",
        "\n",
        "print(\"Overall Accuracy:\", accuracy)\n",
        "print(\"Precision:\", precision)\n",
        "print(\"Recall:\", recall)\n",
        "print(\"F1 Score:\", f1)\n",
        "\n"
      ],
      "metadata": {
        "colab": {
          "base_uri": "https://localhost:8080/"
        },
        "id": "m8M9HcuX-rih",
        "outputId": "82c1f679-9ae7-42b6-b234-ffc58243abe9"
      },
      "execution_count": null,
      "outputs": [
        {
          "output_type": "stream",
          "name": "stdout",
          "text": [
            "Overall Accuracy: 0.85\n",
            "Precision: 0.8714285714285713\n",
            "Recall: 0.8333333333333333\n",
            "F1 Score: 0.8214285714285714\n"
          ]
        }
      ]
    },
    {
      "cell_type": "markdown",
      "source": [
        "## <h1> Accuracy Comparison </h1>"
      ],
      "metadata": {
        "id": "aIlZl2Cs-zao"
      }
    },
    {
      "cell_type": "code",
      "source": [
        "plt.figure(figsize=[10,5],dpi = 100)\n",
        "plt.title('Accuracy Comparison')\n",
        "plt.xlabel('Accuracy')\n",
        "plt.ylabel('Algorithm')\n",
        "sns.barplot(x = acc,y = model,palette='dark')"
      ],
      "metadata": {
        "colab": {
          "base_uri": "https://localhost:8080/",
          "height": 504
        },
        "id": "keg7P9hy-2zI",
        "outputId": "ee89d14f-8801-417a-d902-c7c2d06d314f"
      },
      "execution_count": null,
      "outputs": [
        {
          "output_type": "execute_result",
          "data": {
            "text/plain": [
              "<Axes: title={'center': 'Accuracy Comparison'}, xlabel='Accuracy', ylabel='Algorithm'>"
            ]
          },
          "metadata": {},
          "execution_count": 52
        },
        {
          "output_type": "display_data",
          "data": {
            "text/plain": [
              "<Figure size 1000x500 with 1 Axes>"
            ],
            "image/png": "[encoded data removed]"
          },
          "metadata": {}
        }
      ]
    },
    {
      "cell_type": "code",
      "source": [
        "accuracy_models = dict(zip(model, acc))\n",
        "for k, v in accuracy_models.items():\n",
        "    print (k, '-->', v)"
      ],
      "metadata": {
        "colab": {
          "base_uri": "https://localhost:8080/"
        },
        "id": "5XxSNzOi-6TQ",
        "outputId": "21a2cc5c-5e01-4cac-95c5-5ba1ff36fd7a"
      },
      "execution_count": null,
      "outputs": [
        {
          "output_type": "stream",
          "name": "stdout",
          "text": [
            "GaussianNB() --> 1.0\n",
            "Logistic Regression --> 0.99\n",
            "SVM --> 0.9800000000000001\n",
            "RF --> 0.96\n"
          ]
        }
      ]
    },
    {
      "cell_type": "markdown",
      "source": [
        "<h1> Making a prediction </h1>"
      ],
      "metadata": {
        "id": "VSrx1jhS-9oY"
      }
    },
    {
      "cell_type": "code",
      "source": [
        "# Define the mapping dictionary for decoding\n",
        "encoded_to_original = {\n",
        "    0: '10-26-26',\n",
        "    1: '14-35-14',\n",
        "    2: '17-17-17',\n",
        "    3: '20-20',\n",
        "    4: '28-28',\n",
        "    5: 'DAP',\n",
        "    6: 'Urea'\n",
        "}\n",
        "\n",
        "# Suppose you have an encoded label\n",
        "encoded_label = 6\n",
        "\n",
        "# Decode the fertilizer label\n",
        "decoded_fertilizer = encoded_to_original.get(encoded_label)\n",
        "\n",
        "print(\"Decoded Fertilizer:\", decoded_fertilizer)\n"
      ],
      "metadata": {
        "colab": {
          "base_uri": "https://localhost:8080/"
        },
        "id": "Xit4btyYB8BP",
        "outputId": "16bc7f82-59e4-49e9-91bc-26387ab2728e"
      },
      "execution_count": null,
      "outputs": [
        {
          "output_type": "stream",
          "name": "stdout",
          "text": [
            "Decoded Fertilizer: Urea\n"
          ]
        }
      ]
    },
    {
      "cell_type": "code",
      "source": [
        "temprature = 27.333\n",
        "humidity = 53.333\n",
        "moisture = 46.667\n",
        "soil_type =0\n",
        "crop_type=3\n",
        "N = 37.333\n",
        "K = 0\n",
        "P =0\n",
        "\n",
        "data = np.array([[temprature,humidity,moisture,soil_type,crop_type,N,K,P]])\n",
        "\n",
        "\n",
        "# Predict outputs for selected data using each model\n",
        "knn_output = knn.predict(data)\n",
        "logreg_output = LogReg.predict(data)\n",
        "rf_output = RF.predict(data)\n",
        "nb_output = NaiveBayes.predict(data)\n",
        "dt_output = DecisionTree.predict(data)\n",
        "svm_output = SVM.predict(data)\n",
        "\n",
        "# Print outputs\n",
        "print(\"KNN:\",encoded_to_original.get(knn_output[0]) )\n",
        "print(\"Logistic Regression Output:\",encoded_to_original.get(logreg_output[0]) )\n",
        "print(\"Random Forest Output:\",encoded_to_original.get(rf_output[0]) )\n",
        "print(\"Naive Bayes Output:\",encoded_to_original.get(nb_output[0]) )\n",
        "print(\"Decision Tree Output:\",encoded_to_original.get(dt_output[0]) )\n",
        "print(\"SVM Output:\",encoded_to_original.get(svm_output[0]) )"
      ],
      "metadata": {
        "colab": {
          "base_uri": "https://localhost:8080/"
        },
        "id": "JEhO29sV--Pi",
        "outputId": "4aeb2504-231b-421f-f320-869509e143cd"
      },
      "execution_count": null,
      "outputs": [
        {
          "output_type": "stream",
          "name": "stdout",
          "text": [
            "KNN: Urea\n",
            "Logistic Regression Output: Urea\n",
            "Random Forest Output: Urea\n",
            "Naive Bayes Output: Urea\n",
            "Decision Tree Output: Urea\n",
            "SVM Output: Urea\n"
          ]
        }
      ]
    }
  ]
}